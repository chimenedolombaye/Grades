{
 "cells": [
  {
   "cell_type": "code",
   "execution_count": 2,
   "metadata": {},
   "outputs": [
    {
     "name": "stdout",
     "output_type": "stream",
     "text": [
      "Moyenne des notes : 87.5\n",
      "Médiane des notes : 88.5\n",
      "Écart type des notes : 6.591661399070799\n",
      "Minimum value using np.min:  75\n",
      "Maximum value using np.max:  98\n",
      "Notes triées par ordre croissant : [75 80 83 85 88 89 90 92 95 98]\n",
      "L'index de la note la plus élevée est : 7\n",
      "Les notes supérieures à 90 sont : [92 95 98]\n"
     ]
    }
   ],
   "source": [
    "import numpy as np \n",
    "#créez le tableau \"grades\" comme spécifié ci-dessus.\n",
    "\n",
    "grades =np.array([85, 90, 88, 92, 95, 80, 75, 98, 89, 83])\n",
    "\n",
    "# Utilisez les fonctions numpy pour calculer la moyenne, la médiane et l'écart type des notes.\n",
    "# Calcul de la moyenne\n",
    "\n",
    "grade = np.mean(grades)\n",
    "\n",
    "# Calcul de la médiane\n",
    "median_grade = np.median(grades)\n",
    "\n",
    "# Calcul de l'écart type\n",
    "std_deviation = np.std(grades)\n",
    "\n",
    "# Affichage des résultats\n",
    "print(\"Moyenne des notes :\", grade)\n",
    "print(\"Médiane des notes :\", median_grade)\n",
    "print(\"Écart type des notes :\", std_deviation)\n",
    "\n",
    "# Utilisez la fonction numpy pour trouver le maximum et le minimum des notes.\n",
    "print(\"Minimum value using np.min: \",np.min(grades))\n",
    "print(\"Maximum value using np.max: \",np.max(grades))\n",
    "\n",
    "# Utilisez la fonction numpy pour trier les notes par ordre croissant.\n",
    "\n",
    "sorted_grades = np.sort(grades)\n",
    "print(\"Notes triées par ordre croissant :\", sorted_grades)\n",
    "\n",
    "#Utilisez la fonction numpy pour trouver l'index de la note la plus élevée du tableau.\n",
    "\n",
    "index_max = np.argmax(grades)\n",
    "print(\"L'index de la note la plus élevée est :\", index_max)\n",
    "notes_sup_90 = grades[grades > 90]\n",
    "print(\"Les notes supérieures à 90 sont :\", notes_sup_90)\n",
    "\n"
   ]
  },
  {
   "cell_type": "code",
   "execution_count": 3,
   "metadata": {},
   "outputs": [
    {
     "name": "stdout",
     "output_type": "stream",
     "text": [
      "Le nombre d'élèves ayant obtenu un score supérieur à 90 est : 3\n",
      "Le pourcentage d'élèves ayant obtenu un score supérieur à 90 est : 30.0 %\n"
     ]
    }
   ],
   "source": [
    "# Utilisez la fonction numpy pour compter le nombre d'élèves ayant obtenu un score supérieur à 90.\n",
    "\n",
    "nombre_eleves_sup = np.sum(grades > 90)\n",
    "\n",
    "print(\"Le nombre d'élèves ayant obtenu un score supérieur à 90 est :\", nombre_eleves_sup)\n",
    "\n",
    "#Utilisez la fonction numpy pour calculer le pourcentage d'élèves ayant obtenu un score supérieur à 90.\n",
    "pourcentage_sup = np.mean(grades > 90) * 100\n",
    "\n",
    "print(\"Le pourcentage d'élèves ayant obtenu un score supérieur à 90 est :\", pourcentage_sup, \"%\")"
   ]
  },
  {
   "cell_type": "code",
   "execution_count": 20,
   "metadata": {},
   "outputs": [
    {
     "name": "stdout",
     "output_type": "stream",
     "text": [
      "Le nombre d'élèves ayant obtenu un score inferieur à 75 est : 0.0\n",
      "Le pourcentage d'élèves ayant obtenu un score inférieur à 75 est : 0.0 %\n"
     ]
    }
   ],
   "source": [
    "#Utilisez la fonction numpy pour calculer le pourcentage d'élèves ayant obtenu un score inférieur à 75.\n",
    "nombre_inf = np.mean(notes_inf)\n",
    "print(\"Le nombre d'élèves ayant obtenu un score inferieur à 75 est :\", nombre_inf_75)\n",
    "\n",
    "nombre_inf = nombre_inf * 100\n",
    "\n",
    "print(\"Le pourcentage d'élèves ayant obtenu un score inférieur à 75 est :\", nombre_inf, \"%\")\n",
    "\n"
   ]
  },
  {
   "cell_type": "code",
   "execution_count": 4,
   "metadata": {},
   "outputs": [
    {
     "name": "stdout",
     "output_type": "stream",
     "text": [
      "Les notes supérieures à 90 sont : [92 95 98]\n"
     ]
    }
   ],
   "source": [
    "#Utilisez la fonction numpy pour extraire toutes les notes supérieures à 90 et les placer dans un nouveau tableau appelé \n",
    "#\"high_performers\".\n",
    "\n",
    "high_performers = grades[grades > 90]\n",
    "\n",
    "print(\"Les notes supérieures à 90 sont :\", high_performers)"
   ]
  },
  {
   "cell_type": "code",
   "execution_count": 5,
   "metadata": {},
   "outputs": [
    {
     "name": "stdout",
     "output_type": "stream",
     "text": [
      "Les notes supérieures à 75 sont : [85 90 88 92 95 80 98 89 83]\n"
     ]
    }
   ],
   "source": [
    "#Créez un nouveau tableau appelé \"passing_grades\" qui contient toutes les notes supérieures à 75.\n",
    "\n",
    "passing_grades = grades[grades > 75]\n",
    "\n",
    "print(\"Les notes supérieures à 75 sont :\", passing_grades)"
   ]
  },
  {
   "cell_type": "code",
   "execution_count": null,
   "metadata": {},
   "outputs": [],
   "source": []
  }
 ],
 "metadata": {
  "kernelspec": {
   "display_name": "Python 3",
   "language": "python",
   "name": "python3"
  },
  "language_info": {
   "codemirror_mode": {
    "name": "ipython",
    "version": 3
   },
   "file_extension": ".py",
   "mimetype": "text/x-python",
   "name": "python",
   "nbconvert_exporter": "python",
   "pygments_lexer": "ipython3",
   "version": "3.8.3"
  }
 },
 "nbformat": 4,
 "nbformat_minor": 4
}
